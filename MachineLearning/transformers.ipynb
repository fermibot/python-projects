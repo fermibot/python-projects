{
 "cells": [
  {
   "cell_type": "markdown",
   "metadata": {
    "collapsed": true,
    "pycharm": {
     "is_executing": true
    }
   },
   "source": [
    "# Transformers Practice"
   ]
  },
  {
   "cell_type": "code",
   "execution_count": 4,
   "metadata": {},
   "outputs": [
    {
     "data": {
      "text/html": [
       "<style>.container { width:100% !important; }</style>"
      ],
      "text/plain": [
       "<IPython.core.display.HTML object>"
      ]
     },
     "metadata": {},
     "output_type": "display_data"
    }
   ],
   "source": [
    "from IPython.display import display, HTML\n",
    "import pandas as pd\n",
    "import numpy as np\n",
    "import matplotlib.pyplot as plt\n",
    "from glob import glob\n",
    "import json\n",
    "from datetime import datetime\n",
    "import swifter\n",
    "from tqdm.notebook import tqdm\n",
    "import numpy as np\n",
    "from scipy.special import softmax\n",
    "\n",
    "pd.set_option('display.max_rows', 500)\n",
    "display(HTML(\"<style>.container { width:100% !important; }</style>\"))"
   ]
  },
  {
   "cell_type": "markdown",
   "metadata": {},
   "source": [
    "## Step 1 Define inputs\n",
    "- Inputs = 3\n",
    "- d_model = 4"
   ]
  },
  {
   "cell_type": "code",
   "execution_count": 5,
   "metadata": {},
   "outputs": [],
   "source": [
    "x = np.array([[1, 0, 1, 0], [0, 2, 0, 2], [1, 1, 1, 1]])"
   ]
  },
  {
   "cell_type": "markdown",
   "metadata": {},
   "source": [
    "## Step 2 \n",
    "\n",
    "Define the following  \n",
    "- $Q_w \\rightarrow$ to train the queries\n",
    "- $K_w \\rightarrow$ to train the keys\n",
    "- $V_w \\rightarrow$ to train the values\n",
    "- $d_{k} \\rightarrow 3$"
   ]
  },
  {
   "cell_type": "code",
   "execution_count": 16,
   "metadata": {},
   "outputs": [
    {
     "data": {
      "text/plain": [
       "array([[1.15469325, 4.5956446 , 0.0346926 ]])"
      ]
     },
     "execution_count": 16,
     "metadata": {},
     "output_type": "execute_result"
    }
   ],
   "source": [
    "wq = np.array([[1, 0, 1], [1, 0, 0], [0, 0, 1], [0, 1, 1]])\n",
    "wk = np.array([[0, 0, 1], [1, 1, 0], [0, 1, 0], [1, 1, 0]])\n",
    "wv = np.array([[0, 2, 0], [0, 3, 0], [1, 0, 3], [1, 1, 0]])\n",
    "\n",
    "Q, K, V = np.matmul(x, wq), np.matmul(x, wk), np.matmul(x, wv)\n",
    "\n",
    "def attention(_Q, _K, _V):\n",
    "    return np.matmul(softmax(np.matmul(_Q, _K.transpose())) / np.sqrt(3), _V)\n",
    "\n",
    "attention_x = attention(Q, K, V)\n",
    "\n",
    "attention_x = attention_x[0:1] + attention_x[1: 2] + attention_x[2:]\n",
    "attention_x"
   ]
  },
  {
   "cell_type": "code",
   "execution_count": 19,
   "metadata": {},
   "outputs": [
    {
     "data": {
      "text/plain": [
       "array([[0.98812475, 0.24321054, 0.2390251 , 0.72146135, 0.76819427,\n",
       "        0.66270908, 0.68192753, 0.49028461, 0.74528319, 0.20128833,\n",
       "        0.34174226, 0.87807239, 0.8711479 , 0.9410698 , 0.70030787,\n",
       "        0.88073476, 0.90907316, 0.38434731, 0.81868962, 0.28529714,\n",
       "        0.24739855, 0.57115296, 0.98387975, 0.80262807, 0.91100848,\n",
       "        0.01846762, 0.11391044, 0.34121626, 0.19537946, 0.26124332,\n",
       "        0.83684669, 0.26589837, 0.44018615, 0.99593046, 0.56502175,\n",
       "        0.06101704, 0.26142217, 0.07178945, 0.58836115, 0.14353433,\n",
       "        0.35240886, 0.16157295, 0.32146625, 0.15239384, 0.236278  ,\n",
       "        0.25976279, 0.63303888, 0.36760003, 0.93747826, 0.58067982,\n",
       "        0.38169078, 0.67003813, 0.55367336, 0.39450571, 0.16329783,\n",
       "        0.74748242, 0.95365725, 0.09804413, 0.98091003, 0.74048495,\n",
       "        0.9928828 , 0.76362914, 0.32230565, 0.38350572],\n",
       "       [0.74357962, 0.08126732, 0.52810926, 0.54181298, 0.78862959,\n",
       "        0.6602559 , 0.54859964, 0.06990436, 0.50764744, 0.49926553,\n",
       "        0.67294888, 0.24874712, 0.49978004, 0.9875617 , 0.43096317,\n",
       "        0.68564454, 0.37981112, 0.90862778, 0.20169866, 0.57979932,\n",
       "        0.91504546, 0.1822345 , 0.29181342, 0.37230512, 0.23735135,\n",
       "        0.80665944, 0.60593422, 0.22516645, 0.03557561, 0.77935439,\n",
       "        0.22443343, 0.78392285, 0.18411211, 0.91387331, 0.25810416,\n",
       "        0.65223286, 0.81327334, 0.18624662, 0.01800183, 0.00222105,\n",
       "        0.93207104, 0.16984415, 0.23151216, 0.27183989, 0.51314598,\n",
       "        0.63354919, 0.92857386, 0.00281792, 0.32515497, 0.95320084,\n",
       "        0.56213642, 0.74891006, 0.69828979, 0.16904655, 0.03855526,\n",
       "        0.60323388, 0.53037862, 0.75766696, 0.40305031, 0.49381169,\n",
       "        0.52739703, 0.00914795, 0.03411634, 0.37364656],\n",
       "       [0.42577312, 0.45924587, 0.98835772, 0.5497986 , 0.36965524,\n",
       "        0.60565176, 0.59264819, 0.55740519, 0.36846598, 0.81794415,\n",
       "        0.44796644, 0.70330355, 0.75417765, 0.61126364, 0.62881034,\n",
       "        0.49836321, 0.07103775, 0.83396272, 0.83012957, 0.14541376,\n",
       "        0.30605407, 0.40803061, 0.41669834, 0.92961344, 0.49628714,\n",
       "        0.10172413, 0.70116662, 0.45149781, 0.50840562, 0.96879715,\n",
       "        0.73139718, 0.22682072, 0.28039041, 0.04117687, 0.25397829,\n",
       "        0.92218004, 0.80912009, 0.63546213, 0.11535229, 0.29543648,\n",
       "        0.71287813, 0.10451768, 0.98432609, 0.03035839, 0.48038787,\n",
       "        0.45648476, 0.79291354, 0.02278868, 0.01349469, 0.9605006 ,\n",
       "        0.75162479, 0.51579315, 0.55804568, 0.32561459, 0.8458736 ,\n",
       "        0.44975795, 0.41109748, 0.94851278, 0.33477144, 0.96130498,\n",
       "        0.46920189, 0.94685026, 0.75720067, 0.40126349]])"
      ]
     },
     "execution_count": 19,
     "metadata": {},
     "output_type": "execute_result"
    }
   ],
   "source": [
    "attention_head1 = np.random.random((3, 64))\n",
    "attention_head1"
   ]
  },
  {
   "cell_type": "code",
   "execution_count": null,
   "metadata": {},
   "outputs": [],
   "source": []
  }
 ],
 "metadata": {
  "kernelspec": {
   "display_name": "Python 3 (ipykernel)",
   "language": "python",
   "name": "python3"
  },
  "language_info": {
   "codemirror_mode": {
    "name": "ipython",
    "version": 3
   },
   "file_extension": ".py",
   "mimetype": "text/x-python",
   "name": "python",
   "nbconvert_exporter": "python",
   "pygments_lexer": "ipython3",
   "version": "3.9.6"
  }
 },
 "nbformat": 4,
 "nbformat_minor": 1
}
