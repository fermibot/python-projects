{
 "cells": [
  {
   "cell_type": "markdown",
   "metadata": {
    "collapsed": false,
    "jupyter": {
     "outputs_hidden": false
    }
   },
   "source": [
    "# Libraries | Install"
   ]
  },
  {
   "cell_type": "code",
   "execution_count": 17,
   "metadata": {
    "collapsed": false,
    "jupyter": {
     "outputs_hidden": false
    }
   },
   "outputs": [
    {
     "name": "stdout",
     "output_type": "stream",
     "text": [
      "Requirement already satisfied: torch in /Users/fermibot/PycharmProjects/python-projects/venv/lib/python3.11/site-packages (2.8.0)\r\n",
      "Requirement already satisfied: sklearn in /Users/fermibot/PycharmProjects/python-projects/venv/lib/python3.11/site-packages (0.0)\r\n",
      "Requirement already satisfied: numpy in /Users/fermibot/PycharmProjects/python-projects/venv/lib/python3.11/site-packages (2.3.3)\r\n",
      "Requirement already satisfied: matplotlib in /Users/fermibot/PycharmProjects/python-projects/venv/lib/python3.11/site-packages (3.10.6)\r\n",
      "Requirement already satisfied: tqdm in /Users/fermibot/PycharmProjects/python-projects/venv/lib/python3.11/site-packages (4.67.1)\r\n",
      "Requirement already satisfied: torchviz in /Users/fermibot/PycharmProjects/python-projects/venv/lib/python3.11/site-packages (0.0.3)\r\n",
      "Requirement already satisfied: ann_visualizer in /Users/fermibot/PycharmProjects/python-projects/venv/lib/python3.11/site-packages (2.5)\r\n",
      "Requirement already satisfied: torchsummary in /Users/fermibot/PycharmProjects/python-projects/venv/lib/python3.11/site-packages (1.5.1)\r\n",
      "Requirement already satisfied: jinja2 in /Users/fermibot/PycharmProjects/python-projects/venv/lib/python3.11/site-packages (from torch) (3.1.6)\r\n",
      "Requirement already satisfied: typing-extensions>=4.10.0 in /Users/fermibot/PycharmProjects/python-projects/venv/lib/python3.11/site-packages (from torch) (4.15.0)\r\n",
      "Requirement already satisfied: fsspec in /Users/fermibot/PycharmProjects/python-projects/venv/lib/python3.11/site-packages (from torch) (2025.9.0)\r\n",
      "Requirement already satisfied: networkx in /Users/fermibot/PycharmProjects/python-projects/venv/lib/python3.11/site-packages (from torch) (3.5)\r\n",
      "Requirement already satisfied: sympy>=1.13.3 in /Users/fermibot/PycharmProjects/python-projects/venv/lib/python3.11/site-packages (from torch) (1.14.0)\r\n",
      "Requirement already satisfied: filelock in /Users/fermibot/PycharmProjects/python-projects/venv/lib/python3.11/site-packages (from torch) (3.19.1)\r\n",
      "Requirement already satisfied: scikit-learn in /Users/fermibot/PycharmProjects/python-projects/venv/lib/python3.11/site-packages (from sklearn) (1.7.2)\r\n",
      "Requirement already satisfied: cycler>=0.10 in /Users/fermibot/PycharmProjects/python-projects/venv/lib/python3.11/site-packages (from matplotlib) (0.12.1)\r\n",
      "Requirement already satisfied: kiwisolver>=1.3.1 in /Users/fermibot/PycharmProjects/python-projects/venv/lib/python3.11/site-packages (from matplotlib) (1.4.9)\r\n",
      "Requirement already satisfied: pyparsing>=2.3.1 in /Users/fermibot/PycharmProjects/python-projects/venv/lib/python3.11/site-packages (from matplotlib) (3.2.5)\r\n",
      "Requirement already satisfied: python-dateutil>=2.7 in /Users/fermibot/PycharmProjects/python-projects/venv/lib/python3.11/site-packages (from matplotlib) (2.9.0.post0)\r\n",
      "Requirement already satisfied: contourpy>=1.0.1 in /Users/fermibot/PycharmProjects/python-projects/venv/lib/python3.11/site-packages (from matplotlib) (1.3.3)\r\n",
      "Requirement already satisfied: fonttools>=4.22.0 in /Users/fermibot/PycharmProjects/python-projects/venv/lib/python3.11/site-packages (from matplotlib) (4.60.1)\r\n",
      "Requirement already satisfied: pillow>=8 in /Users/fermibot/PycharmProjects/python-projects/venv/lib/python3.11/site-packages (from matplotlib) (11.3.0)\r\n",
      "Requirement already satisfied: packaging>=20.0 in /Users/fermibot/PycharmProjects/python-projects/venv/lib/python3.11/site-packages (from matplotlib) (25.0)\r\n",
      "Requirement already satisfied: graphviz in /Users/fermibot/PycharmProjects/python-projects/venv/lib/python3.11/site-packages (from torchviz) (0.21)\r\n",
      "Requirement already satisfied: six>=1.5 in /Users/fermibot/PycharmProjects/python-projects/venv/lib/python3.11/site-packages (from python-dateutil>=2.7->matplotlib) (1.17.0)\r\n",
      "Requirement already satisfied: mpmath<1.4,>=1.1.0 in /Users/fermibot/PycharmProjects/python-projects/venv/lib/python3.11/site-packages (from sympy>=1.13.3->torch) (1.3.0)\r\n",
      "Requirement already satisfied: MarkupSafe>=2.0 in /Users/fermibot/PycharmProjects/python-projects/venv/lib/python3.11/site-packages (from jinja2->torch) (3.0.3)\r\n",
      "Requirement already satisfied: joblib>=1.2.0 in /Users/fermibot/PycharmProjects/python-projects/venv/lib/python3.11/site-packages (from scikit-learn->sklearn) (1.5.2)\r\n",
      "Requirement already satisfied: scipy>=1.8.0 in /Users/fermibot/PycharmProjects/python-projects/venv/lib/python3.11/site-packages (from scikit-learn->sklearn) (1.16.2)\r\n",
      "Requirement already satisfied: threadpoolctl>=3.1.0 in /Users/fermibot/PycharmProjects/python-projects/venv/lib/python3.11/site-packages (from scikit-learn->sklearn) (3.6.0)\r\n",
      "\u001B[33mWARNING: You are using pip version 21.3.1; however, version 25.2 is available.\r\n",
      "You should consider upgrading via the '/Users/fermibot/PycharmProjects/python-projects/venv/bin/python -m pip install --upgrade pip' command.\u001B[0m\r\n"
     ]
    }
   ],
   "source": [
    "!pip install torch sklearn numpy matplotlib tqdm torchviz ann_visualizer torchsummary"
   ]
  },
  {
   "cell_type": "markdown",
   "metadata": {
    "collapsed": false,
    "jupyter": {
     "outputs_hidden": false
    }
   },
   "source": [
    "# Libraries | Import"
   ]
  },
  {
   "cell_type": "code",
   "execution_count": 18,
   "metadata": {},
   "outputs": [],
   "source": [
    "import torch\n",
    "from sklearn.linear_model import LinearRegression\n",
    "from random import random, randint, choice\n",
    "from sklearn.metrics import r2_score\n",
    "import numpy as np\n",
    "import matplotlib.pyplot as plt\n",
    "from tqdm.notebook import tqdm\n",
    "from torchviz import make_dot\n",
    "from torchsummary import summary"
   ]
  },
  {
   "cell_type": "markdown",
   "metadata": {
    "collapsed": false,
    "jupyter": {
     "outputs_hidden": false
    }
   },
   "source": [
    "# Functions | Define"
   ]
  },
  {
   "cell_type": "code",
   "execution_count": 36,
   "metadata": {
    "collapsed": false,
    "jupyter": {
     "outputs_hidden": false
    }
   },
   "outputs": [],
   "source": [
    "def randomize(factor):\n",
    "    return choice([-1, 1]) * factor * random()\n",
    "\n",
    "\n",
    "class Config:\n",
    "    x_n = 16\n",
    "    lr = 0.01\n",
    "    epochs = 10\n",
    "    split_train = 0.8\n",
    "    shuffle = True\n",
    "    batch_size = 64\n",
    "    device = torch.device(\"mps\")\n",
    "\n",
    "\n",
    "def print_separator():\n",
    "    print(\"\\n\" + \"-\" * 100)\n",
    "\n",
    "\n",
    "config = Config()"
   ]
  },
  {
   "cell_type": "markdown",
   "metadata": {
    "collapsed": false,
    "jupyter": {
     "outputs_hidden": false
    }
   },
   "source": [
    "# Dataset | Synthesize\n",
    "\n",
    "$Y_j = \\underset{i}{\\Sigma} c_{ij}*x_{ij} \\mid c_i = 0.1, 0.2, 0.3 ...$"
   ]
  },
  {
   "cell_type": "code",
   "execution_count": 19,
   "metadata": {
    "collapsed": false,
    "jupyter": {
     "outputs_hidden": false
    }
   },
   "outputs": [],
   "source": [
    "seed_list = [random() for x in range(2 ** 14)]\n",
    "x_n = config.x_n\n",
    "coe = [0.1 * x for x in range(x_n)]\n",
    "\n",
    "X = [[x + randomize(0.01) for y in range(1, x_n + 1)] for x in seed_list]\n",
    "X_y = [[x_i * coe_j + randomize(0.01) for x_i, coe_j in zip(x, coe)] for x in X]\n",
    "y = [sum([x_i * coe_j + randomize(0.01) for x_i, coe_j in zip(x, coe)]) for x in X]"
   ]
  },
  {
   "cell_type": "markdown",
   "metadata": {
    "collapsed": false,
    "jupyter": {
     "outputs_hidden": false
    }
   },
   "source": [
    "# Modeling | Linear Regression"
   ]
  },
  {
   "cell_type": "code",
   "execution_count": 20,
   "metadata": {
    "collapsed": false,
    "jupyter": {
     "outputs_hidden": false
    }
   },
   "outputs": [
    {
     "name": "stdout",
     "output_type": "stream",
     "text": [
      "\n",
      "Coefficients: [-0.00613923  0.03658898  0.21007615  0.25801465  0.38538827  0.54504808\n",
      "  0.60173573  0.69332478  0.89242505  0.91598773  0.99019966  1.05970078\n",
      "  1.20230315  1.33688507  1.42144093  1.45715284]\n",
      "\n",
      "Intercept: -3.336649853480367e-05\n"
     ]
    }
   ],
   "source": [
    "lr = LinearRegression()\n",
    "lr.fit(X, y)\n",
    "\n",
    "print(f\"\\nCoefficients: {lr.coef_}\")\n",
    "print(f\"\\nIntercept: {lr.intercept_}\")"
   ]
  },
  {
   "cell_type": "markdown",
   "metadata": {
    "collapsed": false,
    "jupyter": {
     "outputs_hidden": false
    }
   },
   "source": [
    "# $R^2 = 1 - \\frac{u}{v}$\n",
    "\n",
    "- $\\mid u = \\Sigma ({y_{true} - y_{pred}})^2$\n",
    "- $\\mid v = \\Sigma ({y_{true} - y_{mean}})^2$\n"
   ]
  },
  {
   "cell_type": "code",
   "execution_count": 21,
   "metadata": {
    "collapsed": false,
    "jupyter": {
     "outputs_hidden": false
    }
   },
   "outputs": [
    {
     "name": "stdout",
     "output_type": "stream",
     "text": [
      "\n",
      "Fit score: 0.9999546397039892\n"
     ]
    }
   ],
   "source": [
    "print(f\"\\nFit score: {lr.score(X, y)}\")"
   ]
  },
  {
   "cell_type": "markdown",
   "metadata": {
    "collapsed": false,
    "jupyter": {
     "outputs_hidden": false
    }
   },
   "source": [
    "\n",
    "# Modeling | Neural Network"
   ]
  },
  {
   "cell_type": "code",
   "execution_count": 22,
   "metadata": {},
   "outputs": [],
   "source": [
    "import torch\n",
    "import torch.nn as nn\n",
    "import torch.optim as optim\n",
    "from torch.utils.data import DataLoader, TensorDataset"
   ]
  },
  {
   "cell_type": "code",
   "execution_count": 23,
   "metadata": {
    "collapsed": false,
    "jupyter": {
     "outputs_hidden": false
    }
   },
   "outputs": [],
   "source": [
    "tensor_X = torch.tensor(X, dtype=torch.float32, device=config.device)\n",
    "tensor_y = torch.tensor(y, dtype=torch.float32, device=config.device)\n",
    "\n",
    "size_train = int(config.split_train * len(tensor_X))\n",
    "size_test = len(tensor_X) - size_train\n",
    "assert size_train + size_test == len(tensor_X)\n",
    "\n",
    "dataset_train = TensorDataset(tensor_X[:size_train], tensor_y[:size_train])\n",
    "dataset_test = TensorDataset(tensor_X[size_train:], tensor_y[size_train:])\n",
    "\n",
    "loader_train = DataLoader(dataset=dataset_train, batch_size=config.batch_size)\n",
    "loader_test = DataLoader(dataset=dataset_test, batch_size=config.batch_size)"
   ]
  },
  {
   "cell_type": "code",
   "execution_count": 24,
   "metadata": {
    "collapsed": false,
    "jupyter": {
     "outputs_hidden": false
    }
   },
   "outputs": [
    {
     "name": "stdout",
     "output_type": "stream",
     "text": [
      "----------------------------------------------------------------\n",
      "        Layer (type)               Output Shape         Param #\n",
      "================================================================\n",
      "            Linear-1                    [-1, 1]              17\n",
      "================================================================\n",
      "Total params: 17\n",
      "Trainable params: 17\n",
      "Non-trainable params: 0\n",
      "----------------------------------------------------------------\n",
      "Input size (MB): 0.00\n",
      "Forward/backward pass size (MB): 0.00\n",
      "Params size (MB): 0.00\n",
      "Estimated Total Size (MB): 0.00\n",
      "----------------------------------------------------------------\n"
     ]
    },
    {
     "data": {
      "text/plain": [
       "LinearModel(\n",
       "  (linear): Linear(in_features=16, out_features=1, bias=True)\n",
       ")"
      ]
     },
     "execution_count": 24,
     "metadata": {},
     "output_type": "execute_result"
    }
   ],
   "source": [
    "class LinearModel(nn.Module):\n",
    "    def __init__(self, in_features):\n",
    "        super(LinearModel, self).__init__()\n",
    "        self.linear = nn.Linear(in_features=in_features, out_features=1, bias=True)\n",
    "\n",
    "    def forward(self, x):\n",
    "        return self.linear(x)\n",
    "\n",
    "\n",
    "model = LinearModel(in_features=config.x_n)\n",
    "summary(model, input_size=(config.x_n,), device='cpu')\n",
    "model.to(device=config.device)"
   ]
  },
  {
   "cell_type": "markdown",
   "metadata": {
    "collapsed": false,
    "jupyter": {
     "outputs_hidden": false
    }
   },
   "source": [
    "## Modeling | Linear Regression | Neural Network | Train"
   ]
  },
  {
   "cell_type": "code",
   "execution_count": 25,
   "metadata": {},
   "outputs": [
    {
     "data": {
      "application/vnd.jupyter.widget-view+json": {
       "model_id": "9c2565d3f26e43bc8e62148295597121",
       "version_major": 2,
       "version_minor": 0
      },
      "text/plain": [
       "  0%|          | 0/10 [00:00<?, ?it/s]"
      ]
     },
     "metadata": {},
     "output_type": "display_data"
    }
   ],
   "source": [
    "criterion = nn.MSELoss()\n",
    "optimizer = optim.SGD(model.parameters(), lr=config.lr)\n",
    "loss_all = []\n",
    "\n",
    "for epoch in tqdm(range(config.epochs)):\n",
    "    loss_epoch_train = 0.0\n",
    "    for batch_X, batch_y in loader_train:\n",
    "        outputs = model(batch_X)\n",
    "        loss_batch = criterion(outputs, batch_y.unsqueeze(1))\n",
    "        loss_epoch_train += loss_batch\n",
    "\n",
    "        optimizer.zero_grad()\n",
    "        loss_batch.backward()\n",
    "        optimizer.step()\n",
    "    loss_all.append(loss_epoch_train)\n"
   ]
  },
  {
   "cell_type": "markdown",
   "metadata": {
    "collapsed": false,
    "jupyter": {
     "outputs_hidden": false
    }
   },
   "source": [
    "## Modeling | Linear Regression | Neural Network | Evaluate"
   ]
  },
  {
   "cell_type": "code",
   "execution_count": 26,
   "metadata": {
    "collapsed": false,
    "jupyter": {
     "outputs_hidden": false
    }
   },
   "outputs": [],
   "source": [
    "model.eval()\n",
    "with torch.no_grad():\n",
    "    # Get the learned parameters\n",
    "    weights_nn = model.linear.weight.detach().cpu().numpy().flatten()\n",
    "    bias = model.linear.bias.detach().cpu().numpy().flatten()[0]"
   ]
  },
  {
   "cell_type": "code",
   "execution_count": 33,
   "metadata": {
    "collapsed": false,
    "jupyter": {
     "outputs_hidden": false
    }
   },
   "outputs": [
    {
     "data": {
      "text/html": [
       "<div>\n",
       "<style scoped>\n",
       "    .dataframe tbody tr th:only-of-type {\n",
       "        vertical-align: middle;\n",
       "    }\n",
       "\n",
       "    .dataframe tbody tr th {\n",
       "        vertical-align: top;\n",
       "    }\n",
       "\n",
       "    .dataframe thead th {\n",
       "        text-align: right;\n",
       "    }\n",
       "</style>\n",
       "<table border=\"1\" class=\"dataframe\">\n",
       "  <thead>\n",
       "    <tr style=\"text-align: right;\">\n",
       "      <th></th>\n",
       "      <th>coeffs_original</th>\n",
       "      <th>coeffs_lr</th>\n",
       "      <th>coeffs_lr_delta</th>\n",
       "      <th>weights_nn</th>\n",
       "      <th>weights_nn_delta</th>\n",
       "    </tr>\n",
       "  </thead>\n",
       "  <tbody>\n",
       "    <tr>\n",
       "      <th>0</th>\n",
       "      <td>0.0</td>\n",
       "      <td>-0.006139</td>\n",
       "      <td>0.006139</td>\n",
       "      <td>0.702421</td>\n",
       "      <td>0.702421</td>\n",
       "    </tr>\n",
       "    <tr>\n",
       "      <th>1</th>\n",
       "      <td>0.1</td>\n",
       "      <td>0.036589</td>\n",
       "      <td>0.063411</td>\n",
       "      <td>0.873634</td>\n",
       "      <td>0.773634</td>\n",
       "    </tr>\n",
       "    <tr>\n",
       "      <th>2</th>\n",
       "      <td>0.2</td>\n",
       "      <td>0.210076</td>\n",
       "      <td>0.010076</td>\n",
       "      <td>0.940504</td>\n",
       "      <td>0.740504</td>\n",
       "    </tr>\n",
       "    <tr>\n",
       "      <th>3</th>\n",
       "      <td>0.3</td>\n",
       "      <td>0.258015</td>\n",
       "      <td>0.041985</td>\n",
       "      <td>0.605463</td>\n",
       "      <td>0.305463</td>\n",
       "    </tr>\n",
       "    <tr>\n",
       "      <th>4</th>\n",
       "      <td>0.4</td>\n",
       "      <td>0.385388</td>\n",
       "      <td>0.014612</td>\n",
       "      <td>0.770953</td>\n",
       "      <td>0.370953</td>\n",
       "    </tr>\n",
       "    <tr>\n",
       "      <th>5</th>\n",
       "      <td>0.5</td>\n",
       "      <td>0.545048</td>\n",
       "      <td>0.045048</td>\n",
       "      <td>0.815619</td>\n",
       "      <td>0.315619</td>\n",
       "    </tr>\n",
       "    <tr>\n",
       "      <th>6</th>\n",
       "      <td>0.6</td>\n",
       "      <td>0.601736</td>\n",
       "      <td>0.001736</td>\n",
       "      <td>0.928441</td>\n",
       "      <td>0.328441</td>\n",
       "    </tr>\n",
       "    <tr>\n",
       "      <th>7</th>\n",
       "      <td>0.7</td>\n",
       "      <td>0.693325</td>\n",
       "      <td>0.006675</td>\n",
       "      <td>0.738034</td>\n",
       "      <td>0.038034</td>\n",
       "    </tr>\n",
       "    <tr>\n",
       "      <th>8</th>\n",
       "      <td>0.8</td>\n",
       "      <td>0.892425</td>\n",
       "      <td>0.092425</td>\n",
       "      <td>0.615800</td>\n",
       "      <td>0.184200</td>\n",
       "    </tr>\n",
       "    <tr>\n",
       "      <th>9</th>\n",
       "      <td>0.9</td>\n",
       "      <td>0.915988</td>\n",
       "      <td>0.015988</td>\n",
       "      <td>0.751254</td>\n",
       "      <td>0.148746</td>\n",
       "    </tr>\n",
       "    <tr>\n",
       "      <th>10</th>\n",
       "      <td>1.0</td>\n",
       "      <td>0.990200</td>\n",
       "      <td>0.009800</td>\n",
       "      <td>0.737468</td>\n",
       "      <td>0.262532</td>\n",
       "    </tr>\n",
       "    <tr>\n",
       "      <th>11</th>\n",
       "      <td>1.1</td>\n",
       "      <td>1.059701</td>\n",
       "      <td>0.040299</td>\n",
       "      <td>0.917242</td>\n",
       "      <td>0.182758</td>\n",
       "    </tr>\n",
       "    <tr>\n",
       "      <th>12</th>\n",
       "      <td>1.2</td>\n",
       "      <td>1.202303</td>\n",
       "      <td>0.002303</td>\n",
       "      <td>0.907251</td>\n",
       "      <td>0.292749</td>\n",
       "    </tr>\n",
       "    <tr>\n",
       "      <th>13</th>\n",
       "      <td>1.3</td>\n",
       "      <td>1.336885</td>\n",
       "      <td>0.036885</td>\n",
       "      <td>0.568987</td>\n",
       "      <td>0.731013</td>\n",
       "    </tr>\n",
       "    <tr>\n",
       "      <th>14</th>\n",
       "      <td>1.4</td>\n",
       "      <td>1.421441</td>\n",
       "      <td>0.021441</td>\n",
       "      <td>0.446049</td>\n",
       "      <td>0.953951</td>\n",
       "    </tr>\n",
       "    <tr>\n",
       "      <th>15</th>\n",
       "      <td>1.5</td>\n",
       "      <td>1.457153</td>\n",
       "      <td>0.042847</td>\n",
       "      <td>0.680835</td>\n",
       "      <td>0.819165</td>\n",
       "    </tr>\n",
       "  </tbody>\n",
       "</table>\n",
       "</div>"
      ],
      "text/plain": [
       "    coeffs_original  coeffs_lr  coeffs_lr_delta  weights_nn  weights_nn_delta\n",
       "0               0.0  -0.006139         0.006139    0.702421          0.702421\n",
       "1               0.1   0.036589         0.063411    0.873634          0.773634\n",
       "2               0.2   0.210076         0.010076    0.940504          0.740504\n",
       "3               0.3   0.258015         0.041985    0.605463          0.305463\n",
       "4               0.4   0.385388         0.014612    0.770953          0.370953\n",
       "5               0.5   0.545048         0.045048    0.815619          0.315619\n",
       "6               0.6   0.601736         0.001736    0.928441          0.328441\n",
       "7               0.7   0.693325         0.006675    0.738034          0.038034\n",
       "8               0.8   0.892425         0.092425    0.615800          0.184200\n",
       "9               0.9   0.915988         0.015988    0.751254          0.148746\n",
       "10              1.0   0.990200         0.009800    0.737468          0.262532\n",
       "11              1.1   1.059701         0.040299    0.917242          0.182758\n",
       "12              1.2   1.202303         0.002303    0.907251          0.292749\n",
       "13              1.3   1.336885         0.036885    0.568987          0.731013\n",
       "14              1.4   1.421441         0.021441    0.446049          0.953951\n",
       "15              1.5   1.457153         0.042847    0.680835          0.819165"
      ]
     },
     "execution_count": 33,
     "metadata": {},
     "output_type": "execute_result"
    }
   ],
   "source": [
    "df_weights = pd.DataFrame(\n",
    "    {\"coeffs_original\": coe, \"coeffs_lr\": lr.coef_, \"coeffs_lr_delta\": abs(lr.coef_ - coe), \"weights_nn\": weights_nn,\n",
    "     \"weights_nn_delta\": abs(weights_nn - coe)})\n",
    "\n",
    "df_weights"
   ]
  },
  {
   "cell_type": "markdown",
   "metadata": {
    "collapsed": false,
    "jupyter": {
     "outputs_hidden": false
    }
   },
   "source": [
    "Sum of weights and $\\delta s$"
   ]
  },
  {
   "cell_type": "code",
   "execution_count": 34,
   "metadata": {
    "collapsed": false,
    "jupyter": {
     "outputs_hidden": false
    }
   },
   "outputs": [
    {
     "data": {
      "text/html": [
       "<div>\n",
       "<style scoped>\n",
       "    .dataframe tbody tr th:only-of-type {\n",
       "        vertical-align: middle;\n",
       "    }\n",
       "\n",
       "    .dataframe tbody tr th {\n",
       "        vertical-align: top;\n",
       "    }\n",
       "\n",
       "    .dataframe thead th {\n",
       "        text-align: right;\n",
       "    }\n",
       "</style>\n",
       "<table border=\"1\" class=\"dataframe\">\n",
       "  <thead>\n",
       "    <tr style=\"text-align: right;\">\n",
       "      <th></th>\n",
       "      <th>sum</th>\n",
       "    </tr>\n",
       "  </thead>\n",
       "  <tbody>\n",
       "    <tr>\n",
       "      <th>coeffs_original</th>\n",
       "      <td>12.000000</td>\n",
       "    </tr>\n",
       "    <tr>\n",
       "      <th>coeffs_lr</th>\n",
       "      <td>12.000133</td>\n",
       "    </tr>\n",
       "    <tr>\n",
       "      <th>coeffs_lr_delta</th>\n",
       "      <td>0.451671</td>\n",
       "    </tr>\n",
       "    <tr>\n",
       "      <th>weights_nn</th>\n",
       "      <td>11.999956</td>\n",
       "    </tr>\n",
       "    <tr>\n",
       "      <th>weights_nn_delta</th>\n",
       "      <td>7.150184</td>\n",
       "    </tr>\n",
       "  </tbody>\n",
       "</table>\n",
       "</div>"
      ],
      "text/plain": [
       "                        sum\n",
       "coeffs_original   12.000000\n",
       "coeffs_lr         12.000133\n",
       "coeffs_lr_delta    0.451671\n",
       "weights_nn        11.999956\n",
       "weights_nn_delta   7.150184"
      ]
     },
     "execution_count": 34,
     "metadata": {},
     "output_type": "execute_result"
    }
   ],
   "source": [
    "pd.DataFrame({'sum': df_weights.aggregate(func='sum')})"
   ]
  },
  {
   "cell_type": "markdown",
   "metadata": {
    "collapsed": false,
    "jupyter": {
     "outputs_hidden": false
    }
   },
   "source": [
    "# Modeling | Compare"
   ]
  },
  {
   "cell_type": "code",
   "execution_count": 35,
   "metadata": {
    "collapsed": false,
    "jupyter": {
     "outputs_hidden": false
    }
   },
   "outputs": [
    {
     "name": "stdout",
     "output_type": "stream",
     "text": [
      "MODEL COMPARISON SUMMARY\n",
      "\n",
      "----------------------------------------------------------------------------------------------------\n",
      "Metric                    Sklearn         PyTorch         True      \n",
      "\n",
      "----------------------------------------------------------------------------------------------------\n",
      "R² Score                  0.999955        0.999942        -         \n",
      "Sum of Weights            12.000133       11.999956       12.000000 \n",
      "Bias/Intercept            -0.000033       0.000106        0.0       \n",
      "\n",
      "----------------------------------------------------------------------------------------------------\n",
      "Fit Quality               Excellent       Excellent       -         \n",
      "Variance Explained        100.0         % 100.0         % -         \n"
     ]
    }
   ],
   "source": [
    "model.eval()\n",
    "with torch.no_grad():\n",
    "    y_pred_pytorch = model(tensor_X).cpu().numpy().flatten()\n",
    "    y_true = tensor_y.cpu().numpy().flatten()\n",
    "\n",
    "# Sklearn predictions\n",
    "X_np = np.array(X)\n",
    "y_np = np.array(y)\n",
    "y_pred_sklearn = lr.predict(X_np)\n",
    "\n",
    "# Calculate R² scores\n",
    "r2_pytorch = r2_score(y_true, y_pred_pytorch)\n",
    "r2_sklearn = r2_score(y_true, y_pred_sklearn)\n",
    "\n",
    "# Get model parameters\n",
    "weights = model.linear.weight.detach().cpu().numpy().flatten()\n",
    "bias = model.linear.bias.detach().cpu().numpy().flatten()[0]\n",
    "\n",
    "# Side-by-side comparison\n",
    "\n",
    "print(\"MODEL COMPARISON SUMMARY\")\n",
    "print_separator()\n",
    "print(f\"{'Metric':<25} {'Sklearn':<15} {'PyTorch':<15} {'True':<10}\")\n",
    "print_separator()\n",
    "print(f\"{'R² Score':<25} {r2_sklearn:<15.6f} {r2_pytorch:<15.6f} {'-':<10}\")\n",
    "print(f\"{'Sum of Weights':<25} {np.sum(lr.coef_):<15.6f} {np.sum(weights):<15.6f} {np.sum(coe):<10.6f}\")\n",
    "print(f\"{'Bias/Intercept':<25} {lr.intercept_:<15.6f} {bias:<15.6f} {'0.0':<10}\")\n",
    "print_separator()\n",
    "\n",
    "\n",
    "# Quality assessment\n",
    "def get_quality(r2):\n",
    "    if r2 > 0.9:\n",
    "        return \"Excellent\"\n",
    "    elif r2 > 0.7:\n",
    "        return \"Good\"\n",
    "    elif r2 > 0.5:\n",
    "        return \"Fair\"\n",
    "    else:\n",
    "        return \"Poor\"\n",
    "\n",
    "\n",
    "print(f\"{'Fit Quality':<25} {get_quality(r2_sklearn):<15} {get_quality(r2_pytorch):<15} {'-':<10}\")\n",
    "print(f\"{'Variance Explained':<25} {r2_sklearn * 100:<14.1f}% {r2_pytorch * 100:<14.1f}% {'-':<10}\")"
   ]
  },
  {
   "cell_type": "code",
   "execution_count": 29,
   "metadata": {
    "collapsed": false,
    "jupyter": {
     "outputs_hidden": false
    }
   },
   "outputs": [],
   "source": []
  }
 ],
 "metadata": {
  "kernelspec": {
   "display_name": "Python 3 (ipykernel)",
   "language": "python",
   "name": "python3"
  },
  "language_info": {
   "codemirror_mode": {
    "name": "ipython",
    "version": 3
   },
   "file_extension": ".py",
   "mimetype": "text/x-python",
   "name": "python",
   "nbconvert_exporter": "python",
   "pygments_lexer": "ipython3",
   "version": "3.11.0"
  }
 },
 "nbformat": 4,
 "nbformat_minor": 4
}
