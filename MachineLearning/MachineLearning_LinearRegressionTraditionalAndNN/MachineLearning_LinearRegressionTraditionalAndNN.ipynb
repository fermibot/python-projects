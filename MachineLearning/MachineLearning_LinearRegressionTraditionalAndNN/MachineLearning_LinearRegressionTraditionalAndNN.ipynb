{
 "cells": [
  {
   "cell_type": "markdown",
   "source": [
    "# Using sklearn"
   ],
   "metadata": {
    "collapsed": false
   }
  },
  {
   "cell_type": "code",
   "execution_count": 110,
   "metadata": {},
   "outputs": [],
   "source": [
    "import torch\n",
    "from sklearn.linear_model import LinearRegression\n",
    "from random import random, randint, choice\n",
    "import numpy as np\n",
    "import matplotlib.pyplot as plt\n",
    "from tqdm.notebook import tqdm\n",
    "\n",
    "\n",
    "def randomize(factor):\n",
    "    return choice([-1, 1]) * factor * random()\n",
    "\n",
    "\n",
    "class Config:\n",
    "    x_n = 3\n",
    "    lr = 0.0001\n",
    "    epochs = 20\n",
    "    split_train = 0.8\n",
    "    shuffle = True\n",
    "    batch_size = 64\n",
    "    device = torch.device(\"cpu\")\n",
    "\n",
    "\n",
    "config = Config()"
   ]
  },
  {
   "cell_type": "code",
   "execution_count": 111,
   "metadata": {
    "collapsed": false,
    "jupyter": {
     "outputs_hidden": false
    }
   },
   "outputs": [
    {
     "name": "stdout",
     "output_type": "stream",
     "text": [
      "0.7545391831375537 [-0.00093028  0.10048545  0.20031834] 0.000258331786324284\n"
     ]
    },
    {
     "data": {
      "text/plain": "array([-0.00093028,  0.10048545,  0.20031834])"
     },
     "execution_count": 111,
     "metadata": {},
     "output_type": "execute_result"
    }
   ],
   "source": [
    "seed_list = [random() for x in range(2 ** 18)]\n",
    "x_n = config.x_n\n",
    "coe = [0.1 * x for x in range(x_n)]\n",
    "\n",
    "X = [[x + randomize(0.1) for y in range(x_n)] for x in seed_list]\n",
    "y = [sum([x_i * coe_j + randomize(0.05) for x_i, coe_j in zip(x, coe)]) for x in X]\n",
    "\n",
    "lr = LinearRegression(n_jobs=10)\n",
    "lr.fit(X, y)\n",
    "\n",
    "print(lr.score(X, y), lr.coef_, lr.intercept_)\n",
    "\n",
    "lr.coef_"
   ]
  },
  {
   "cell_type": "markdown",
   "source": [
    "# Using Neural Networks"
   ],
   "metadata": {
    "collapsed": false
   }
  },
  {
   "cell_type": "code",
   "execution_count": 112,
   "metadata": {},
   "outputs": [
    {
     "data": {
      "text/plain": "torch.cuda.device"
     },
     "execution_count": 112,
     "metadata": {},
     "output_type": "execute_result"
    }
   ],
   "source": [
    "import torch\n",
    "import torch.nn as nn\n",
    "import torch.optim as optim\n",
    "from torch.utils.data import DataLoader, TensorDataset\n",
    "\n",
    "torch.cuda.device"
   ]
  },
  {
   "cell_type": "code",
   "execution_count": 113,
   "outputs": [],
   "source": [
    "tensor_X = torch.tensor(X, dtype=torch.float32, device=config.device)\n",
    "tensor_y = torch.tensor(y, dtype=torch.float32, device=config.device)\n",
    "\n",
    "size_train = int(config.split_train * len(tensor_X))\n",
    "size_test = len(tensor_X) - size_train\n",
    "assert size_train + size_test == len(tensor_X)\n",
    "\n",
    "dataset_train = TensorDataset(tensor_X[:size_train], tensor_y[:size_train])\n",
    "dataset_test = TensorDataset(tensor_X[size_train:], tensor_y[size_train:])\n",
    "\n",
    "loader_train = DataLoader(dataset=dataset_train, batch_size=config.batch_size)\n",
    "loader_test = DataLoader(dataset=dataset_test, batch_size=config.batch_size)"
   ],
   "metadata": {
    "collapsed": false
   }
  },
  {
   "cell_type": "code",
   "execution_count": 114,
   "metadata": {},
   "outputs": [
    {
     "data": {
      "text/plain": "  0%|          | 0/20 [00:00<?, ?it/s]",
      "application/vnd.jupyter.widget-view+json": {
       "version_major": 2,
       "version_minor": 0,
       "model_id": "bd87f1e4a4de4883b5ca9db21f6504f6"
      }
     },
     "metadata": {},
     "output_type": "display_data"
    }
   ],
   "source": [
    "class LinearModel(nn.Module):\n",
    "    def __init__(self, in_features):\n",
    "        super(LinearModel, self).__init__()\n",
    "        self.linear = nn.Linear(in_features=in_features, out_features=1)\n",
    "\n",
    "    def forward(self, x):\n",
    "        return self.linear(x)\n",
    "\n",
    "\n",
    "model = LinearModel(in_features=config.x_n)\n",
    "model.to(device=config.device)\n",
    "\n",
    "\n",
    "criterion = nn.MSELoss()\n",
    "optimizer = optim.SGD(model.parameters(), lr=config.lr)\n",
    "loss_all = []\n",
    "\n",
    "for epoch in tqdm(range(config.epochs)):\n",
    "    loss_epoch_train = 0.0\n",
    "    for batch_X, batch_y in loader_train:\n",
    "        outputs = model(batch_X)\n",
    "        loss_batch = criterion(outputs, batch_y.unsqueeze(1))\n",
    "        loss_epoch_train += loss_batch\n",
    "\n",
    "        optimizer.zero_grad()\n",
    "        loss_batch.backward()\n",
    "        optimizer.step()\n",
    "    loss_all.append(loss_epoch_train)\n"
   ]
  },
  {
   "cell_type": "code",
   "execution_count": 115,
   "metadata": {},
   "outputs": [
    {
     "data": {
      "text/plain": "Parameter containing:\ntensor([[-0.2188,  0.0287,  0.3830]], requires_grad=True)"
     },
     "execution_count": 115,
     "metadata": {},
     "output_type": "execute_result"
    }
   ],
   "source": [
    "model.linear.weight"
   ]
  },
  {
   "cell_type": "code",
   "execution_count": 115,
   "outputs": [],
   "source": [],
   "metadata": {
    "collapsed": false
   }
  }
 ],
 "metadata": {
  "kernelspec": {
   "display_name": "Python 3 (ipykernel)",
   "language": "python",
   "name": "python3"
  },
  "language_info": {
   "codemirror_mode": {
    "name": "ipython",
    "version": 3
   },
   "file_extension": ".py",
   "mimetype": "text/x-python",
   "name": "python",
   "nbconvert_exporter": "python",
   "pygments_lexer": "ipython3",
   "version": "3.11.0"
  }
 },
 "nbformat": 4,
 "nbformat_minor": 4
}
