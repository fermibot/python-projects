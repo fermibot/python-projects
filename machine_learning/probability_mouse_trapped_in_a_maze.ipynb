{
 "cells": [
  {
   "cell_type": "code",
   "execution_count": 27,
   "metadata": {},
   "outputs": [
    {
     "name": "stderr",
     "output_type": "stream",
     "text": [
      "100%|██████████| 100000/100000 [00:01<00:00, 92135.93it/s]\n"
     ]
    }
   ],
   "source": [
    "import random\n",
    "import pandas as pd\n",
    "\n",
    "import pandas as pd\n",
    "import tqdm\n",
    "\n",
    "\n",
    "def choice_01():\n",
    "    return random.choices([1, 2], weights=[0.5, 0.5])[0]\n",
    "\n",
    "\n",
    "def choice_02():\n",
    "    return random.choices([3, 4], weights=[1 / 3, 2 / 3])[0]\n",
    "\n",
    "random.seed(10)\n",
    "\n",
    "class Maze:\n",
    "    def __init__(self):\n",
    "        self.time_segments = []\n",
    "        self.choices = []\n",
    "\n",
    "    def solve(self):\n",
    "        choice_01_door = choice_01()\n",
    "        self.choices.append(choice_01_door)\n",
    "        if choice_01_door == 1:\n",
    "            self.time_segments.append(3)\n",
    "            return self.solve() + 3\n",
    "        else:\n",
    "            choice_02_door = choice_02()\n",
    "            self.choices.append(choice_02_door)\n",
    "            if choice_02_door == 3:\n",
    "                self.time_segments.append(2)\n",
    "                return 2\n",
    "            elif choice_02_door == 4:\n",
    "                self.time_segments.append(5)\n",
    "                return self.solve() + 5\n",
    "\n",
    "\n",
    "if __name__ == '__main__':\n",
    "    journeys = []\n",
    "    for i in tqdm.tqdm(range(100000)):\n",
    "        maze = Maze()\n",
    "        journey = maze.solve()\n",
    "        journeys.append(maze)"
   ]
  },
  {
   "cell_type": "code",
   "execution_count": 28,
   "metadata": {},
   "outputs": [],
   "source": [
    "df = [[x.choices, x.time_segments] for x in journeys]\n",
    "df = pd.DataFrame(df, columns=['choices', 'time_segments'])\n",
    "df['time_total'] = df['time_segments'].apply(sum)"
   ]
  },
  {
   "cell_type": "code",
   "execution_count": 29,
   "metadata": {},
   "outputs": [],
   "source": [
    "df.to_csv('probability_mouse_trapped_in_a_maze.csv', index=False)"
   ]
  },
  {
   "cell_type": "code",
   "execution_count": 30,
   "outputs": [
    {
     "data": {
      "text/plain": "21.07161"
     },
     "execution_count": 30,
     "metadata": {},
     "output_type": "execute_result"
    }
   ],
   "source": [
    "df[\"time_total\"].mean()"
   ],
   "metadata": {
    "collapsed": false
   }
  },
  {
   "cell_type": "code",
   "execution_count": 30,
   "outputs": [],
   "source": [],
   "metadata": {
    "collapsed": false
   }
  }
 ],
 "metadata": {
  "kernelspec": {
   "display_name": "Python 3 (ipykernel)",
   "language": "python",
   "name": "python3"
  },
  "language_info": {
   "codemirror_mode": {
    "name": "ipython",
    "version": 3
   },
   "file_extension": ".py",
   "mimetype": "text/x-python",
   "name": "python",
   "nbconvert_exporter": "python",
   "pygments_lexer": "ipython3",
   "version": "3.9.6"
  }
 },
 "nbformat": 4,
 "nbformat_minor": 1
}
