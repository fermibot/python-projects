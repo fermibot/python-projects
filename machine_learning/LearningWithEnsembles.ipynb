{
 "cells": [
  {
   "cell_type": "markdown",
   "metadata": {},
   "source": [
    "# OReilly_MLPyTorchScikitLearn Chapter07"
   ]
  },
  {
   "cell_type": "code",
   "execution_count": 1,
   "metadata": {},
   "outputs": [],
   "source": [
    "# !pip install torch\n",
    "# !pip install -U torchtext==0.10.0"
   ]
  },
  {
   "cell_type": "code",
   "execution_count": 2,
   "metadata": {},
   "outputs": [
    {
     "ename": "ImportError",
     "evalue": "dlopen(/Users/fermibot/PycharmProjects/pythonProject/venv/lib/python3.9/site-packages/torchtext/_torchtext.so, 0x0002): Symbol not found: __ZNK3c104Type14isSubtypeOfExtERKNSt3__110shared_ptrIS0_EEPNS1_13basic_ostreamIcNS1_11char_traitsIcEEEE\n  Referenced from: <7ABE0FFB-AB9E-3E3C-9464-2B39ECA41E93> /Users/fermibot/PycharmProjects/pythonProject/venv/lib/python3.9/site-packages/torchtext/_torchtext.so\n  Expected in:     <AE6DCE26-A528-35ED-BB3D-88890D27E6B9> /Users/fermibot/PycharmProjects/pythonProject/venv/lib/python3.9/site-packages/torch/lib/libtorch_cpu.dylib",
     "output_type": "error",
     "traceback": [
      "\u001B[0;31m---------------------------------------------------------------------------\u001B[0m",
      "\u001B[0;31mImportError\u001B[0m                               Traceback (most recent call last)",
      "Cell \u001B[0;32mIn[2], line 4\u001B[0m\n\u001B[1;32m      2\u001B[0m \u001B[38;5;28;01mimport\u001B[39;00m \u001B[38;5;21;01mpandas\u001B[39;00m \u001B[38;5;28;01mas\u001B[39;00m \u001B[38;5;21;01mpd\u001B[39;00m\n\u001B[1;32m      3\u001B[0m \u001B[38;5;28;01mimport\u001B[39;00m \u001B[38;5;21;01mtorch\u001B[39;00m\n\u001B[0;32m----> 4\u001B[0m \u001B[38;5;28;01mimport\u001B[39;00m \u001B[38;5;21;01mtorchtext\u001B[39;00m\n",
      "File \u001B[0;32m~/PycharmProjects/pythonProject/venv/lib/python3.9/site-packages/torchtext/__init__.py:5\u001B[0m\n\u001B[1;32m      3\u001B[0m \u001B[38;5;28;01mfrom\u001B[39;00m \u001B[38;5;21;01m.\u001B[39;00m \u001B[38;5;28;01mimport\u001B[39;00m datasets\n\u001B[1;32m      4\u001B[0m \u001B[38;5;28;01mfrom\u001B[39;00m \u001B[38;5;21;01m.\u001B[39;00m \u001B[38;5;28;01mimport\u001B[39;00m utils\n\u001B[0;32m----> 5\u001B[0m \u001B[38;5;28;01mfrom\u001B[39;00m \u001B[38;5;21;01m.\u001B[39;00m \u001B[38;5;28;01mimport\u001B[39;00m vocab\n\u001B[1;32m      6\u001B[0m \u001B[38;5;28;01mfrom\u001B[39;00m \u001B[38;5;21;01m.\u001B[39;00m \u001B[38;5;28;01mimport\u001B[39;00m legacy\n\u001B[1;32m      9\u001B[0m \u001B[38;5;28;01mtry\u001B[39;00m:\n",
      "File \u001B[0;32m~/PycharmProjects/pythonProject/venv/lib/python3.9/site-packages/torchtext/vocab.py:13\u001B[0m\n\u001B[1;32m     11\u001B[0m \u001B[38;5;28;01mfrom\u001B[39;00m \u001B[38;5;21;01mtyping\u001B[39;00m \u001B[38;5;28;01mimport\u001B[39;00m Dict, List, Optional, Iterable\n\u001B[1;32m     12\u001B[0m \u001B[38;5;28;01mfrom\u001B[39;00m \u001B[38;5;21;01mcollections\u001B[39;00m \u001B[38;5;28;01mimport\u001B[39;00m Counter, OrderedDict\n\u001B[0;32m---> 13\u001B[0m \u001B[38;5;28;01mfrom\u001B[39;00m \u001B[38;5;21;01mtorchtext\u001B[39;00m\u001B[38;5;21;01m.\u001B[39;00m\u001B[38;5;21;01m_torchtext\u001B[39;00m \u001B[38;5;28;01mimport\u001B[39;00m (\n\u001B[1;32m     14\u001B[0m     Vocab \u001B[38;5;28;01mas\u001B[39;00m VocabPybind,\n\u001B[1;32m     15\u001B[0m )\n\u001B[1;32m     16\u001B[0m \u001B[38;5;28;01mfrom\u001B[39;00m \u001B[38;5;21;01m.\u001B[39;00m\u001B[38;5;21;01mutils\u001B[39;00m \u001B[38;5;28;01mimport\u001B[39;00m reporthook\n\u001B[1;32m     18\u001B[0m logger \u001B[38;5;241m=\u001B[39m logging\u001B[38;5;241m.\u001B[39mgetLogger(\u001B[38;5;18m__name__\u001B[39m)\n",
      "\u001B[0;31mImportError\u001B[0m: dlopen(/Users/fermibot/PycharmProjects/pythonProject/venv/lib/python3.9/site-packages/torchtext/_torchtext.so, 0x0002): Symbol not found: __ZNK3c104Type14isSubtypeOfExtERKNSt3__110shared_ptrIS0_EEPNS1_13basic_ostreamIcNS1_11char_traitsIcEEEE\n  Referenced from: <7ABE0FFB-AB9E-3E3C-9464-2B39ECA41E93> /Users/fermibot/PycharmProjects/pythonProject/venv/lib/python3.9/site-packages/torchtext/_torchtext.so\n  Expected in:     <AE6DCE26-A528-35ED-BB3D-88890D27E6B9> /Users/fermibot/PycharmProjects/pythonProject/venv/lib/python3.9/site-packages/torch/lib/libtorch_cpu.dylib"
     ]
    }
   ],
   "source": [
    "import numpy as np\n",
    "import pandas as pd\n",
    "import torch\n",
    "import torchtext"
   ]
  },
  {
   "cell_type": "code",
   "execution_count": null,
   "metadata": {
    "pycharm": {
     "is_executing": true
    }
   },
   "outputs": [],
   "source": [
    "def Factorial(n):\n",
    "    i = 1\n",
    "    for j in range(1, n + 1):\n",
    "        i *= j\n",
    "    return i\n",
    "\n",
    "\n",
    "def Binomial(n, k):\n",
    "    return Factorial(n) / (Factorial(k) * Factorial(n - k))\n",
    "\n",
    "\n",
    "ensemble_error = 0\n",
    "\n",
    "n = 11\n",
    "error = 0.25\n",
    "k = 6\n",
    "\n",
    "my_list = []\n",
    "for i in range(1000):\n",
    "    err = i * 0.001\n",
    "    my_list.append((err, np.sum([Binomial(n, x) * (err ** x) * (1 - err) ** (n - x) for x in range(k, n + 1)])))\n",
    "\n",
    "my_list = pd.DataFrame(my_list, columns=['error_rate', 'ensemble_error_rate'])\n",
    "\n",
    "my_list.plot()"
   ]
  },
  {
   "cell_type": "code",
   "execution_count": null,
   "metadata": {},
   "outputs": [],
   "source": [
    "import numpy as np\n",
    "\n",
    "\n",
    "def binary_cross_entropy(y_true, y_pred):\n",
    "    \"\"\"\n",
    "    Computes binary cross entropy loss given true labels and predicted probabilities.\n",
    "    \"\"\"\n",
    "    epsilon = 1e-15\n",
    "    y_pred = np.clip(y_pred, epsilon, 1 - epsilon)\n",
    "    a = y_true * np.log(y_pred)\n",
    "    b = (1 - y_true) * np.log(1 - y_pred)\n",
    "    print(a, b)\n",
    "    bce = -(a + b)\n",
    "    return np.mean(bce)\n",
    "\n",
    "\n",
    "# Example usage\n",
    "y_true = np.array([0, 1, 0, 1])\n",
    "y_pred = np.array([0.9, 0.1, 0.9, 0.1])\n",
    "bce = binary_cross_entropy(y_true, y_pred)\n",
    "print('Binary Cross Entropy:', bce)"
   ]
  },
  {
   "cell_type": "code",
   "execution_count": null,
   "metadata": {},
   "outputs": [],
   "source": [
    "import numpy as np\n",
    "\n",
    "def kl_divergence(p, q):\n",
    "    \"\"\"\n",
    "    Computes KL divergence given two probability distributions.\n",
    "    \"\"\"\n",
    "    epsilon = 1e-15\n",
    "    p = np.clip(p, epsilon, 1 - epsilon)\n",
    "    q = np.clip(q, epsilon, 1 - epsilon)\n",
    "    kl = np.sum(p * np.log(p / q))\n",
    "    return kl\n",
    "\n",
    "# Example usage\n",
    "p = np.array([0.9, 0.9, 0.9, 0.9])\n",
    "q = np.array([0.1, 0.1, 0.1, 0.1])\n",
    "kl = kl_divergence(p, q)\n",
    "print('KL Divergence:', kl)\n",
    "\n",
    "\n",
    "# Example usage\n",
    "p = np.array([0.1, 0.2, 0.3, 0.4])\n",
    "q = np.array([0.1, 0.2, 0.3, 0.4])\n",
    "kl = kl_divergence(p, q)\n",
    "print('KL Divergence:', kl)\n",
    "\n",
    "# Example usage\n",
    "p = np.array([0.1, 0.2, 0.3, 0.4])\n",
    "q = np.array([0.4, 0.3, 0.2, 0.1])\n",
    "kl = kl_divergence(p, q)\n",
    "print('KL Divergence:', kl)\n",
    "\n",
    "\n",
    "# Example usage\n",
    "p = np.array([0.1, 0.1, 0.1, 0.1])\n",
    "q = np.array([1, 1, 1, 1])\n",
    "kl = kl_divergence(p, q)\n",
    "print('KL Divergence:', kl)"
   ]
  },
  {
   "cell_type": "code",
   "execution_count": null,
   "metadata": {},
   "outputs": [],
   "source": [
    "x = torch.randn(2, 3, 5)\n",
    "x.size()\n",
    "torch.permute(x, (2, 0, 1)).size()"
   ]
  }
 ],
 "metadata": {
  "kernelspec": {
   "display_name": "Python 3 (ipykernel)",
   "language": "python",
   "name": "python3"
  },
  "language_info": {
   "codemirror_mode": {
    "name": "ipython",
    "version": 3
   },
   "file_extension": ".py",
   "mimetype": "text/x-python",
   "name": "python",
   "nbconvert_exporter": "python",
   "pygments_lexer": "ipython3",
   "version": "3.9.6"
  }
 },
 "nbformat": 4,
 "nbformat_minor": 1
}
