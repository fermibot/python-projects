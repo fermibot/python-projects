{
 "cells": [
  {
   "cell_type": "code",
   "execution_count": 1,
   "id": "57e771ac",
   "metadata": {},
   "outputs": [
    {
     "name": "stdout",
     "output_type": "stream",
     "text": [
      "0.9090909090909092\n"
     ]
    }
   ],
   "source": [
    "# Spam Detection Example\n",
    "\n",
    "# Define the prior probabilities\n",
    "P_A = 0.1 # probability of email being spam\n",
    "P_B_given_A = 0.9 # probability of email containing \"viagra\" given it's spam\n",
    "P_B_given_not_A = 0.01 # probability of email containing \"viagra\" given it's not spam\n",
    "P_B = 0.05 # probability of email containing \"viagra\"\n",
    "\n",
    "# Calculate the conditional probability of email being spam given it contains \"viagra\"\n",
    "P_not_A = 1 - P_A # probability of email not being spam\n",
    "P_A_given_B = P_B_given_A * P_A / (P_B_given_A * P_A + P_B_given_not_A * P_not_A)\n",
    "\n",
    "print(P_A_given_B)\n"
   ]
  },
  {
   "cell_type": "code",
   "execution_count": 4,
   "id": "f1ba2492",
   "metadata": {
    "scrolled": true
   },
   "outputs": [
    {
     "name": "stdout",
     "output_type": "stream",
     "text": [
      "Downloading http://yann.lecun.com/exdb/mnist/train-images-idx3-ubyte.gz\n",
      "Downloading http://yann.lecun.com/exdb/mnist/train-images-idx3-ubyte.gz to ./data/MNIST/raw/train-images-idx3-ubyte.gz\n"
     ]
    },
    {
     "name": "stderr",
     "output_type": "stream",
     "text": [
      "100%|██████████| 9912422/9912422 [00:00<00:00, 54103550.73it/s]\n"
     ]
    },
    {
     "name": "stdout",
     "output_type": "stream",
     "text": [
      "Extracting ./data/MNIST/raw/train-images-idx3-ubyte.gz to ./data/MNIST/raw\n",
      "\n",
      "Downloading http://yann.lecun.com/exdb/mnist/train-labels-idx1-ubyte.gz\n",
      "Downloading http://yann.lecun.com/exdb/mnist/train-labels-idx1-ubyte.gz to ./data/MNIST/raw/train-labels-idx1-ubyte.gz\n"
     ]
    },
    {
     "name": "stderr",
     "output_type": "stream",
     "text": [
      "100%|██████████| 28881/28881 [00:00<00:00, 3059445.72it/s]\n"
     ]
    },
    {
     "name": "stdout",
     "output_type": "stream",
     "text": [
      "Extracting ./data/MNIST/raw/train-labels-idx1-ubyte.gz to ./data/MNIST/raw\n",
      "\n",
      "Downloading http://yann.lecun.com/exdb/mnist/t10k-images-idx3-ubyte.gz\n",
      "Downloading http://yann.lecun.com/exdb/mnist/t10k-images-idx3-ubyte.gz to ./data/MNIST/raw/t10k-images-idx3-ubyte.gz\n"
     ]
    },
    {
     "name": "stderr",
     "output_type": "stream",
     "text": [
      "100%|██████████| 1648877/1648877 [00:00<00:00, 21672369.16it/s]\n"
     ]
    },
    {
     "name": "stdout",
     "output_type": "stream",
     "text": [
      "Extracting ./data/MNIST/raw/t10k-images-idx3-ubyte.gz to ./data/MNIST/raw\n",
      "\n",
      "Downloading http://yann.lecun.com/exdb/mnist/t10k-labels-idx1-ubyte.gz\n",
      "Downloading http://yann.lecun.com/exdb/mnist/t10k-labels-idx1-ubyte.gz to ./data/MNIST/raw/t10k-labels-idx1-ubyte.gz\n"
     ]
    },
    {
     "name": "stderr",
     "output_type": "stream",
     "text": [
      "100%|██████████| 4542/4542 [00:00<00:00, 13359417.09it/s]\n"
     ]
    },
    {
     "name": "stdout",
     "output_type": "stream",
     "text": [
      "Extracting ./data/MNIST/raw/t10k-labels-idx1-ubyte.gz to ./data/MNIST/raw\n",
      "\n",
      "Epoch [1/5], Step [100/469], Loss: 0.0691\n",
      "Epoch [1/5], Step [200/469], Loss: 0.0679\n",
      "Epoch [1/5], Step [300/469], Loss: 0.0618\n",
      "Epoch [1/5], Step [400/469], Loss: 0.0581\n",
      "Epoch [2/5], Step [100/469], Loss: 0.0522\n",
      "Epoch [2/5], Step [200/469], Loss: 0.0513\n",
      "Epoch [2/5], Step [300/469], Loss: 0.0504\n",
      "Epoch [2/5], Step [400/469], Loss: 0.0501\n",
      "Epoch [3/5], Step [100/469], Loss: 0.0454\n",
      "Epoch [3/5], Step [200/469], Loss: 0.0473\n",
      "Epoch [3/5], Step [300/469], Loss: 0.0476\n",
      "Epoch [3/5], Step [400/469], Loss: 0.0454\n",
      "Epoch [4/5], Step [100/469], Loss: 0.0436\n",
      "Epoch [4/5], Step [200/469], Loss: 0.0426\n",
      "Epoch [4/5], Step [300/469], Loss: 0.0437\n",
      "Epoch [4/5], Step [400/469], Loss: 0.0456\n",
      "Epoch [5/5], Step [100/469], Loss: 0.0482\n",
      "Epoch [5/5], Step [200/469], Loss: 0.0409\n",
      "Epoch [5/5], Step [300/469], Loss: 0.0443\n",
      "Epoch [5/5], Step [400/469], Loss: 0.0461\n",
      "PSNR: 13.67\n",
      "PSNR: 13.85\n",
      "PSNR: 13.67\n",
      "PSNR: 13.53\n",
      "PSNR: 13.37\n",
      "PSNR: 13.61\n",
      "PSNR: 13.60\n",
      "PSNR: 13.58\n",
      "PSNR: 13.64\n",
      "PSNR: 13.65\n",
      "PSNR: 13.70\n",
      "PSNR: 13.50\n",
      "PSNR: 13.67\n",
      "PSNR: 13.51\n",
      "PSNR: 13.60\n",
      "PSNR: 13.73\n",
      "PSNR: 13.43\n",
      "PSNR: 13.53\n",
      "PSNR: 13.53\n",
      "PSNR: 13.67\n",
      "PSNR: 13.50\n",
      "PSNR: 13.61\n",
      "PSNR: 13.59\n",
      "PSNR: 13.73\n",
      "PSNR: 13.64\n",
      "PSNR: 13.73\n",
      "PSNR: 13.68\n",
      "PSNR: 13.37\n",
      "PSNR: 13.76\n",
      "PSNR: 13.13\n",
      "PSNR: 13.45\n",
      "PSNR: 13.85\n",
      "PSNR: 13.56\n",
      "PSNR: 13.50\n",
      "PSNR: 13.52\n",
      "PSNR: 13.45\n",
      "PSNR: 13.66\n",
      "PSNR: 13.50\n",
      "PSNR: 13.67\n",
      "PSNR: 13.97\n",
      "PSNR: 13.53\n",
      "PSNR: 13.89\n",
      "PSNR: 13.69\n",
      "PSNR: 13.75\n",
      "PSNR: 13.70\n",
      "PSNR: 13.65\n",
      "PSNR: 13.16\n",
      "PSNR: 12.79\n",
      "PSNR: 13.73\n",
      "PSNR: 13.48\n",
      "PSNR: 13.47\n",
      "PSNR: 13.71\n",
      "PSNR: 13.21\n",
      "PSNR: 13.47\n",
      "PSNR: 14.00\n",
      "PSNR: 14.10\n",
      "PSNR: 13.66\n",
      "PSNR: 13.97\n",
      "PSNR: 13.66\n",
      "PSNR: 14.06\n",
      "PSNR: 13.08\n",
      "PSNR: 12.52\n",
      "PSNR: 13.06\n",
      "PSNR: 13.37\n",
      "PSNR: 12.91\n",
      "PSNR: 13.35\n",
      "PSNR: 12.92\n",
      "PSNR: 14.01\n",
      "PSNR: 14.14\n",
      "PSNR: 13.98\n",
      "PSNR: 13.01\n",
      "PSNR: 13.00\n",
      "PSNR: 13.63\n",
      "PSNR: 13.73\n",
      "PSNR: 13.43\n",
      "PSNR: 13.60\n",
      "PSNR: 13.83\n",
      "PSNR: 13.81\n",
      "PSNR: 13.52\n"
     ]
    }
   ],
   "source": [
    "import torch\n",
    "import torch.nn as nn\n",
    "import torchvision\n",
    "import torchvision.transforms as transforms\n",
    "\n",
    "# Hyperparameters\n",
    "num_epochs = 5\n",
    "batch_size = 128\n",
    "learning_rate = 0.001\n",
    "\n",
    "# Dataset\n",
    "train_dataset = torchvision.datasets.MNIST(root='./data', train=True, transform=transforms.ToTensor(), download=True)\n",
    "test_dataset = torchvision.datasets.MNIST(root='./data', train=False, transform=transforms.ToTensor())\n",
    "\n",
    "# Dataloader\n",
    "train_loader = torch.utils.data.DataLoader(dataset=train_dataset, batch_size=batch_size, shuffle=True)\n",
    "test_loader = torch.utils.data.DataLoader(dataset=test_dataset, batch_size=batch_size, shuffle=False)\n",
    "\n",
    "# Autoencoder model\n",
    "class Autoencoder(nn.Module):\n",
    "    def __init__(self):\n",
    "        super(Autoencoder, self).__init__()\n",
    "        self.encoder = nn.Sequential(\n",
    "            nn.Linear(784, 128),\n",
    "            nn.ReLU(),\n",
    "            nn.Linear(128, 64),\n",
    "            nn.ReLU(),\n",
    "            nn.Linear(64, 12),\n",
    "            nn.ReLU(),\n",
    "            nn.Linear(12, 2),\n",
    "        )\n",
    "        self.decoder = nn.Sequential(\n",
    "            nn.Linear(2, 12),\n",
    "            nn.ReLU(),\n",
    "            nn.Linear(12, 64),\n",
    "            nn.ReLU(),\n",
    "            nn.Linear(64, 128),\n",
    "            nn.ReLU(),\n",
    "            nn.Linear(128, 784),\n",
    "            nn.Sigmoid(),\n",
    "        )\n",
    "\n",
    "    def forward(self, x):\n",
    "        x = self.encoder(x)\n",
    "        x = self.decoder(x)\n",
    "        return x\n",
    "\n",
    "# Loss function and optimizer\n",
    "model = Autoencoder()\n",
    "criterion = nn.MSELoss()\n",
    "optimizer = torch.optim.Adam(model.parameters(), lr=learning_rate)\n",
    "\n",
    "# Training loop\n",
    "total_step = len(train_loader)\n",
    "for epoch in range(num_epochs):\n",
    "    for i, (images, _) in enumerate(train_loader):\n",
    "        # Flatten the image\n",
    "        images = images.reshape(-1, 28*28)\n",
    "\n",
    "        # Forward pass\n",
    "        outputs = model(images)\n",
    "        loss = criterion(outputs, images)\n",
    "\n",
    "        # Backward and optimize\n",
    "        optimizer.zero_grad()\n",
    "        loss.backward()\n",
    "        optimizer.step()\n",
    "\n",
    "        # Print progress every 100 batches\n",
    "        if (i+1) % 100 == 0:\n",
    "            print ('Epoch [{}/{}], Step [{}/{}], Loss: {:.4f}'\n",
    "                   .format(epoch+1, num_epochs, i+1, total_step, loss.item()))\n",
    "\n",
    "# Testing loop\n",
    "with torch.no_grad():\n",
    "    for images, _ in test_loader:\n",
    "        # Flatten the image\n",
    "        images = images.reshape(-1, 28*28)\n",
    "\n",
    "        # Forward pass\n",
    "        outputs = model(images)\n",
    "\n",
    "        # Compare original and reconstructed images\n",
    "        mse_loss = nn.MSELoss(reduction='none')\n",
    "        loss = mse_loss(outputs, images)\n",
    "        psnr = 10 * torch.log10(1/loss.mean())\n",
    "        print('PSNR: {:.2f}'.format(psnr))\n",
    "\n",
    "\n",
    "    "
   ]
  },
  {
   "cell_type": "code",
   "execution_count": null,
   "id": "9283e72e",
   "metadata": {},
   "outputs": [],
   "source": []
  }
 ],
 "metadata": {
  "kernelspec": {
   "display_name": "Python 3 (ipykernel)",
   "language": "python",
   "name": "python3"
  },
  "language_info": {
   "codemirror_mode": {
    "name": "ipython",
    "version": 3
   },
   "file_extension": ".py",
   "mimetype": "text/x-python",
   "name": "python",
   "nbconvert_exporter": "python",
   "pygments_lexer": "ipython3",
   "version": "3.9.6"
  }
 },
 "nbformat": 4,
 "nbformat_minor": 5
}
