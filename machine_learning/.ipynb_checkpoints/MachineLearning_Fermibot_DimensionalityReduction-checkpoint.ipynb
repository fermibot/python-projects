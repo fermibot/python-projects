{
 "cells": [
  {
   "cell_type": "code",
   "execution_count": 7,
   "metadata": {
    "pycharm": {
     "is_executing": true
    }
   },
   "outputs": [
    {
     "name": "stdout",
     "output_type": "stream",
     "text": [
      "\u001b[33mWARNING: You are using pip version 21.3.1; however, version 25.1.1 is available.\n",
      "You should consider upgrading via the '/Users/fermibot/PycharmProjects/python-projects/venv/bin/python -m pip install --upgrade pip' command.\u001b[0m\n",
      "\u001b[33mWARNING: You are using pip version 21.3.1; however, version 25.1.1 is available.\n",
      "You should consider upgrading via the '/Users/fermibot/PycharmProjects/python-projects/venv/bin/python -m pip install --upgrade pip' command.\u001b[0m\n",
      "\u001b[33mWARNING: You are using pip version 21.3.1; however, version 25.1.1 is available.\n",
      "You should consider upgrading via the '/Users/fermibot/PycharmProjects/python-projects/venv/bin/python -m pip install --upgrade pip' command.\u001b[0m\n",
      "\u001b[33mWARNING: You are using pip version 21.3.1; however, version 25.1.1 is available.\n",
      "You should consider upgrading via the '/Users/fermibot/PycharmProjects/python-projects/venv/bin/python -m pip install --upgrade pip' command.\u001b[0m\n",
      "\u001b[33mWARNING: You are using pip version 21.3.1; however, version 25.1.1 is available.\n",
      "You should consider upgrading via the '/Users/fermibot/PycharmProjects/python-projects/venv/bin/python -m pip install --upgrade pip' command.\u001b[0m\n",
      "\u001b[33mWARNING: You are using pip version 21.3.1; however, version 25.1.1 is available.\n",
      "You should consider upgrading via the '/Users/fermibot/PycharmProjects/python-projects/venv/bin/python -m pip install --upgrade pip' command.\u001b[0m\n"
     ]
    }
   ],
   "source": [
    "!pip install transformers --quiet\n",
    "!pip install wordfreq --quiet\n",
    "!pip install pqdm --quiet\n",
    "!pip install swifter --quiet\n",
    "!pip install torch --quiet\n",
    "!pip install scikit-learn --quiet"
   ]
  },
  {
   "cell_type": "code",
   "execution_count": 12,
   "metadata": {},
   "outputs": [],
   "source": [
    "import torch\n",
    "from transformers import AutoModelForCausalLM, AutoTokenizer\n",
    "import pandas as pd\n",
    "import swifter\n",
    "\n",
    "from wordfreq import top_n_list, zipf_frequency\n",
    "import pickle\n",
    "\n",
    "from tqdm.auto import tqdm\n",
    "import pandas as pd\n",
    "\n",
    "import numpy as np\n",
    "\n",
    "\n",
    "import torch\n",
    "import torch.nn as nn\n",
    "import torch.optim as optim\n",
    "from torch.utils.data import DataLoader, TensorDataset\n",
    "from sklearn.model_selection import train_test_split\n",
    "\n",
    "\n",
    "path_prefix = \"MachineLearning_Fermibot_DimensionalityReduction\"\n",
    "top_n = 4096"
   ]
  },
  {
   "cell_type": "code",
   "execution_count": 10,
   "metadata": {},
   "outputs": [
    {
     "name": "stdout",
     "output_type": "stream",
     "text": [
      "DeepSeek-Coder model 'deepseek-ai/deepseek-coder-1.3b-base' and tokenizer loaded.\n"
     ]
    }
   ],
   "source": [
    "model_name = \"deepseek-ai/deepseek-coder-1.3b-base\"\n",
    "\n",
    "tokenizer = AutoTokenizer.from_pretrained(model_name)\n",
    "model = AutoModelForCausalLM.from_pretrained(model_name)\n",
    "\n",
    "print(f\"DeepSeek-Coder model '{model_name}' and tokenizer loaded.\")"
   ]
  },
  {
   "cell_type": "code",
   "execution_count": 13,
   "metadata": {},
   "outputs": [
    {
     "ename": "NameError",
     "evalue": "name 'path_prefix' is not defined",
     "output_type": "error",
     "traceback": [
      "\u001b[31m---------------------------------------------------------------------------\u001b[39m",
      "\u001b[31mNameError\u001b[39m                                 Traceback (most recent call last)",
      "\u001b[36mCell\u001b[39m\u001b[36m \u001b[39m\u001b[32mIn[13]\u001b[39m\u001b[32m, line 12\u001b[39m\n\u001b[32m      8\u001b[39m         outputs = model(**inputs, output_hidden_states=\u001b[38;5;28;01mTrue\u001b[39;00m)\n\u001b[32m      9\u001b[39m         \u001b[38;5;28;01mreturn\u001b[39;00m outputs.hidden_states[-\u001b[32m1\u001b[39m].mean(dim=\u001b[32m1\u001b[39m).squeeze().numpy()\n\u001b[32m---> \u001b[39m\u001b[32m12\u001b[39m embeddings_file_path = \u001b[33mf\u001b[39m\u001b[33m\"\u001b[39m\u001b[38;5;132;01m{\u001b[39;00m\u001b[43mpath_prefix\u001b[49m\u001b[38;5;132;01m}\u001b[39;00m\u001b[33m/df_embeddings.pkl\u001b[39m\u001b[33m\"\u001b[39m\n\u001b[32m     14\u001b[39m df_embeddings[\u001b[33m\"\u001b[39m\u001b[33membeddings\u001b[39m\u001b[33m\"\u001b[39m] = df_embeddings[\u001b[33m\"\u001b[39m\u001b[33mwords\u001b[39m\u001b[33m\"\u001b[39m].swifter.apply(embed_word)\n\u001b[32m     15\u001b[39m df_embeddings.to_pickle(embeddings_file_path)\n",
      "\u001b[31mNameError\u001b[39m: name 'path_prefix' is not defined"
     ]
    }
   ],
   "source": [
    "top_words = top_n_list(\"en\", top_n)\n",
    "df_embeddings = pd.DataFrame({\"words\": top_words})\n",
    "\n",
    "\n",
    "def embed_word(word):\n",
    "    inputs = tokenizer(word, return_tensors=\"pt\")\n",
    "    with torch.no_grad():\n",
    "        outputs = model(**inputs, output_hidden_states=True)\n",
    "        return outputs.hidden_states[-1].mean(dim=1).squeeze().numpy()\n",
    "\n",
    "\n",
    "embeddings_file_path = f\"{path_prefix}/df_embeddings.pkl\"\n",
    "\n",
    "df_embeddings[\"embeddings\"] = df_embeddings[\"words\"].swifter.apply(embed_word)\n",
    "df_embeddings.to_pickle(embeddings_file_path)\n",
    "\n",
    "df_embeddings = pd.read_pickle(embeddings_file_path).head(512)"
   ]
  },
  {
   "cell_type": "code",
   "execution_count": null,
   "metadata": {},
   "outputs": [],
   "source": []
  }
 ],
 "metadata": {
  "kernelspec": {
   "display_name": "Python 3 (ipykernel)",
   "language": "python",
   "name": "python3"
  },
  "language_info": {
   "codemirror_mode": {
    "name": "ipython",
    "version": 3
   },
   "file_extension": ".py",
   "mimetype": "text/x-python",
   "name": "python",
   "nbconvert_exporter": "python",
   "pygments_lexer": "ipython3",
   "version": "3.11.0"
  }
 },
 "nbformat": 4,
 "nbformat_minor": 4
}
